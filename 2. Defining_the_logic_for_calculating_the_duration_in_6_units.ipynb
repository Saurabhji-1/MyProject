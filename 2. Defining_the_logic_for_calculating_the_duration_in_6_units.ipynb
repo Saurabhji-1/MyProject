{
 "cells": [
  {
   "cell_type": "markdown",
   "metadata": {
    "id": "Tsq3CSiR2gcM"
   },
   "source": [
    "# **Defining the logic for calculating the duration in 6 units**\n",
    "\n"
   ]
  },
  {
   "cell_type": "code",
   "execution_count": 27,
   "metadata": {
    "colab": {
     "base_uri": "https://localhost:8080/"
    },
    "id": "r0h6pHy2T-Cl",
    "outputId": "832a4c75-f6c7-4a6e-8037-044f5b69d52f"
   },
   "outputs": [
    {
     "name": "stdin",
     "output_type": "stream",
     "text": [
      "What's your age?  10\n"
     ]
    },
    {
     "name": "stdout",
     "output_type": "stream",
     "text": [
      "You have lived for 120.00 Month(s).\n",
      "You have lived for 521.43 Week(s).\n",
      "You have lived for 3650.00 Day(s).\n",
      "You have lived for 87600.00 Hour(s).\n",
      "You have lived for 5256000.00 Minute(s).\n",
      "You have lived for 315360000.00 Second(s).\n"
     ]
    }
   ],
   "source": [
    "class SurvivalDurationCalculator:\n",
    "    # Conversion constants\n",
    "    MONTHS_PER_YEAR = 12\n",
    "    WEEKS_PER_YEAR = 52.1429  # Approximate weeks per year\n",
    "    DAYS_PER_YEAR = 365\n",
    "    HOURS_PER_DAY = 24\n",
    "    MINUTES_PER_HOUR = 60\n",
    "    SECONDS_PER_MINUTE = 60\n",
    "\n",
    "    def __init__(self, age):\n",
    "        self.age = age  # Store the age when initializing the class\n",
    "\n",
    "    def calculate_duration_in_months(self):\n",
    "        return self.age * self.MONTHS_PER_YEAR\n",
    "\n",
    "    def calculate_duration_in_weeks(self):\n",
    "        return self.age * self.WEEKS_PER_YEAR\n",
    "\n",
    "    def calculate_duration_in_days(self):\n",
    "        return self.age * self.DAYS_PER_YEAR\n",
    "\n",
    "    def calculate_duration_in_hours(self):\n",
    "        return self.calculate_duration_in_days() * self.HOURS_PER_DAY\n",
    "\n",
    "    def calculate_duration_in_minutes(self):\n",
    "        return self.calculate_duration_in_hours() * self.MINUTES_PER_HOUR\n",
    "\n",
    "    def calculate_duration_in_seconds(self):\n",
    "        return self.calculate_duration_in_minutes() * self.SECONDS_PER_MINUTE\n",
    "\n",
    "    def display_all_durations(self):\n",
    "        print(f\"You have lived for {self.calculate_duration_in_months():.2f} Month(s).\")\n",
    "        print(f\"You have lived for {self.calculate_duration_in_weeks():.2f} Week(s).\")\n",
    "        print(f\"You have lived for {self.calculate_duration_in_days():.2f} Day(s).\")\n",
    "        print(f\"You have lived for {self.calculate_duration_in_hours():.2f} Hour(s).\")\n",
    "        print(f\"You have lived for {self.calculate_duration_in_minutes():.2f} Minute(s).\")\n",
    "        print(f\"You have lived for {self.calculate_duration_in_seconds():.2f} Second(s).\")\n",
    "\n",
    "# Example usage\n",
    "def run_survival_duration_calculator():\n",
    "    try:\n",
    "        age = int(input(\"What's your age? \"))\n",
    "        if age < 0:\n",
    "            print(\"Age cannot be negative!\")\n",
    "            return\n",
    "        calculator = SurvivalDurationCalculator(age)\n",
    "        calculator.display_all_durations()\n",
    "    except ValueError:\n",
    "        print(\"Invalid input. Please enter a valid age (numeric).\")\n",
    "\n",
    "# Run the calculator\n",
    "run_survival_duration_calculator()"
   ]
  },
  {
   "cell_type": "markdown",
   "metadata": {
    "id": "Wpcwl18kWLt2"
   },
   "source": [
    "# **Calculating the duration in Months**\n"
   ]
  },
  {
   "cell_type": "code",
   "execution_count": 25,
   "metadata": {
    "colab": {
     "base_uri": "https://localhost:8080/"
    },
    "id": "P1ZvpZANBHM_",
    "outputId": "4c71a729-dbb9-4971-c381-cbf75672b341"
   },
   "outputs": [
    {
     "name": "stdin",
     "output_type": "stream",
     "text": [
      "What's your age?  10\n"
     ]
    },
    {
     "name": "stdout",
     "output_type": "stream",
     "text": [
      "You lived for 120 Month(s)\n"
     ]
    }
   ],
   "source": [
    "def calculate_duration_in_months(age):\n",
    "    # Calculate the number of months lived\n",
    "    months_lived = age * 12\n",
    "    return months_lived\n",
    "\n",
    "# Input age\n",
    "age = int(input(\"What's your age? \"))\n",
    "\n",
    "# Output the result\n",
    "print(f\"You lived for {calculate_duration_in_months(age)} Month(s)\")"
   ]
  },
  {
   "cell_type": "markdown",
   "metadata": {
    "id": "7Ts0h0SAXnVL"
   },
   "source": [
    "# **Calculating the duration in weeks**\n"
   ]
  },
  {
   "cell_type": "code",
   "execution_count": 23,
   "metadata": {
    "colab": {
     "base_uri": "https://localhost:8080/"
    },
    "id": "g13oOFZFXrc-",
    "outputId": "4833eb91-574c-4bf0-ba61-6ba8e10cce2b"
   },
   "outputs": [
    {
     "name": "stdin",
     "output_type": "stream",
     "text": [
      "What's your age?  10\n"
     ]
    },
    {
     "name": "stdout",
     "output_type": "stream",
     "text": [
      "You lived for 521.429 Week(s)\n"
     ]
    }
   ],
   "source": [
    "def calculate_duration_in_weeks(age):\n",
    "    # Calculate the number of weeks lived\n",
    "    weeks_lived = age * 52.1429\n",
    "    return weeks_lived\n",
    "\n",
    "# Input age\n",
    "age = int(input(\"What's your age? \"))\n",
    "\n",
    "# Output the result\n",
    "print(f\"You lived for {calculate_duration_in_weeks(age)} Week(s)\")"
   ]
  },
  {
   "cell_type": "markdown",
   "metadata": {
    "id": "yD4SR9EMZGmK"
   },
   "source": [
    "# **Calculating the duration in Days**\n"
   ]
  },
  {
   "cell_type": "code",
   "execution_count": 21,
   "metadata": {
    "colab": {
     "base_uri": "https://localhost:8080/"
    },
    "id": "DTSmyiQjZF6F",
    "outputId": "e496e65c-da60-44f4-b87d-69049a06b9ba"
   },
   "outputs": [
    {
     "name": "stdin",
     "output_type": "stream",
     "text": [
      "What's your age?  10\n"
     ]
    },
    {
     "name": "stdout",
     "output_type": "stream",
     "text": [
      "You lived for 3650 Day(s)\n"
     ]
    }
   ],
   "source": [
    "def calculate_duration_in_days(age):\n",
    "    # Calculate the number of days lived\n",
    "    days_lived = age * 365\n",
    "    return days_lived\n",
    "\n",
    "# Input age\n",
    "age = int(input(\"What's your age? \"))\n",
    "\n",
    "# Output the result\n",
    "print(f\"You lived for {calculate_duration_in_days(age)} Day(s)\")"
   ]
  },
  {
   "cell_type": "markdown",
   "metadata": {
    "id": "TvXZVlSSS_57"
   },
   "source": [
    "# **Calculating the duration in Hours**\n"
   ]
  },
  {
   "cell_type": "code",
   "execution_count": 19,
   "metadata": {
    "colab": {
     "base_uri": "https://localhost:8080/"
    },
    "id": "vI_2wbcakETT",
    "outputId": "9c279863-2523-4f5c-8633-a7ab2b021f7d"
   },
   "outputs": [
    {
     "name": "stdin",
     "output_type": "stream",
     "text": [
      "What's your age?  10\n"
     ]
    },
    {
     "name": "stdout",
     "output_type": "stream",
     "text": [
      "You lived for 87600 Hour(s)\n"
     ]
    }
   ],
   "source": [
    "def calculate_duration_in_hours(age):\n",
    "    # Calculate the number of hours lived\n",
    "    hours_lived = age * 365 * 24\n",
    "    return hours_lived\n",
    "\n",
    "# Input age\n",
    "age = int(input(\"What's your age? \"))\n",
    "\n",
    "# Output the result\n",
    "print(f\"You lived for {calculate_duration_in_hours(age)} Hour(s)\")"
   ]
  },
  {
   "cell_type": "markdown",
   "metadata": {
    "id": "n1LzmkpvXM4Q"
   },
   "source": [
    "# **Calculating the duration in minutes**\n"
   ]
  },
  {
   "cell_type": "code",
   "execution_count": 17,
   "metadata": {
    "colab": {
     "base_uri": "https://localhost:8080/"
    },
    "id": "7IBSFWJTXDy2",
    "outputId": "14a4278a-4d5c-45e8-f007-cc63f3a21790"
   },
   "outputs": [
    {
     "name": "stdin",
     "output_type": "stream",
     "text": [
      "What's your age?  10\n"
     ]
    },
    {
     "name": "stdout",
     "output_type": "stream",
     "text": [
      "You lived for 5256000 Minute(s)\n"
     ]
    }
   ],
   "source": [
    "def calculate_duration_in_minutes(age):\n",
    "    # Calculate the number of minutes lived\n",
    "    minutes_lived = age * 365 * 24 * 60\n",
    "    return minutes_lived\n",
    "\n",
    "# Input age\n",
    "age = int(input(\"What's your age? \"))\n",
    "\n",
    "# Output the result\n",
    "print(f\"You lived for {calculate_duration_in_minutes(age)} Minute(s)\")"
   ]
  },
  {
   "cell_type": "markdown",
   "metadata": {
    "id": "bN-aSu-CXnr0"
   },
   "source": [
    "# **Calculating the duration in Seconds**\n"
   ]
  },
  {
   "cell_type": "code",
   "execution_count": 15,
   "metadata": {
    "colab": {
     "base_uri": "https://localhost:8080/"
    },
    "id": "PZ-R_H-2YZ39",
    "outputId": "9f497fc2-ae2f-435c-9601-91417bcc355c"
   },
   "outputs": [
    {
     "name": "stdin",
     "output_type": "stream",
     "text": [
      "What's your age?  10\n"
     ]
    },
    {
     "name": "stdout",
     "output_type": "stream",
     "text": [
      "You lived for 315360000 Second(s)\n"
     ]
    }
   ],
   "source": [
    "def calculate_duration_in_seconds(age):\n",
    "    # Calculate the number of seconds lived\n",
    "    seconds_lived = age * 365 * 24 * 60 * 60\n",
    "    return seconds_lived\n",
    "\n",
    "# Input age\n",
    "age = int(input(\"What's your age? \"))\n",
    "\n",
    "# Output the result\n",
    "print(f\"You lived for {calculate_duration_in_seconds(age)} Second(s)\")"
   ]
  },
  {
   "cell_type": "code",
   "execution_count": null,
   "metadata": {},
   "outputs": [],
   "source": []
  }
 ],
 "metadata": {
  "colab": {
   "provenance": []
  },
  "kernelspec": {
   "display_name": "Python 3 (ipykernel)",
   "language": "python",
   "name": "python3"
  },
  "language_info": {
   "codemirror_mode": {
    "name": "ipython",
    "version": 3
   },
   "file_extension": ".py",
   "mimetype": "text/x-python",
   "name": "python",
   "nbconvert_exporter": "python",
   "pygments_lexer": "ipython3",
   "version": "3.12.4"
  }
 },
 "nbformat": 4,
 "nbformat_minor": 4
}
