{
 "cells": [
  {
   "cell_type": "code",
   "execution_count": 21,
   "id": "68b5b161-8693-40e6-b12c-ccd91ba05a9f",
   "metadata": {},
   "outputs": [
    {
     "name": "stdin",
     "output_type": "stream",
     "text": [
      "What's your age?  24\n",
      "Please choose the time unit (Months, Weeks, Days, Hours, Minutes, Seconds): You can write the first letter or the full name of the time unit. m Minutes\n"
     ]
    },
    {
     "name": "stdout",
     "output_type": "stream",
     "text": [
      "You have lived for 12614400 Minutes.\n"
     ]
    }
   ],
   "source": [
    "class SurvivalDurationCalculator:\n",
    "    MONTHS_PER_YEAR = 12\n",
    "    WEEKS_PER_YEAR = 52.1429  \n",
    "    DAYS_PER_YEAR = 365\n",
    "    HOURS_PER_DAY = 24\n",
    "    MINUTES_PER_HOUR = 60\n",
    "    SECONDS_PER_MINUTE = 60\n",
    "\n",
    "    def __init__(self, age):\n",
    "        self.age = age  \n",
    "\n",
    "    def calculate_months(self):\n",
    "        return self.age * self.MONTHS_PER_YEAR\n",
    "\n",
    "    def calculate_weeks(self):\n",
    "        return self.age * self.WEEKS_PER_YEAR\n",
    "\n",
    "    def calculate_days(self):\n",
    "        return self.age * self.DAYS_PER_YEAR\n",
    "\n",
    "    def calculate_hours(self):\n",
    "        return self.calculate_days() * self.HOURS_PER_DAY\n",
    "\n",
    "    def calculate_minutes(self):\n",
    "        return self.calculate_hours() * self.MINUTES_PER_HOUR\n",
    "\n",
    "    def calculate_seconds(self):\n",
    "        return self.calculate_minutes() * self.SECONDS_PER_MINUTE\n",
    "\n",
    "    def display_duration(self, unit):\n",
    "        unit = unit.lower()\n",
    "        if unit in ['months', 'm']:\n",
    "            duration = self.calculate_months()\n",
    "        elif unit in ['weeks', 'w']:\n",
    "            duration = self.calculate_weeks()\n",
    "        elif unit in ['days', 'd']:\n",
    "            duration = self.calculate_days()\n",
    "        elif unit in ['hours', 'h']:\n",
    "            duration = self.calculate_hours()\n",
    "        elif unit in ['minutes', 'min']:\n",
    "            duration = self.calculate_minutes()\n",
    "        elif unit in ['seconds', 'sec']:\n",
    "            duration = self.calculate_seconds()\n",
    "        else:\n",
    "            print(\"Invalid time unit selected.\")\n",
    "            return\n",
    "        \n",
    "        print(f\"You have lived for {duration} {unit.capitalize()}.\")\n",
    "\n",
    "\n",
    "def run_survival_duration_calculator():\n",
    "    try:\n",
    "        age = int(input(\"What's your age? \"))\n",
    "        if age < 0:\n",
    "            print(\"Age cannot be negative!\")\n",
    "            return\n",
    "        \n",
    "        calculator = SurvivalDurationCalculator(age)\n",
    "        \n",
    "        unit = input(\"Please choose the time unit (Months, Weeks, Days, Hours, Minutes, Seconds): You can write the first letter or the full name of the time unit. m\")\n",
    "        calculator.display_duration(unit)\n",
    "    except ValueError:\n",
    "        print(\"Please enter a valid age\")\n",
    "\n",
    "\n",
    "run_survival_duration_calculator()"
   ]
  },
  {
   "cell_type": "code",
   "execution_count": null,
   "id": "c7521b9e-c106-4753-8286-8d68e8977c46",
   "metadata": {},
   "outputs": [],
   "source": []
  }
 ],
 "metadata": {
  "kernelspec": {
   "display_name": "Python 3 (ipykernel)",
   "language": "python",
   "name": "python3"
  },
  "language_info": {
   "codemirror_mode": {
    "name": "ipython",
    "version": 3
   },
   "file_extension": ".py",
   "mimetype": "text/x-python",
   "name": "python",
   "nbconvert_exporter": "python",
   "pygments_lexer": "ipython3",
   "version": "3.12.4"
  }
 },
 "nbformat": 4,
 "nbformat_minor": 5
}
